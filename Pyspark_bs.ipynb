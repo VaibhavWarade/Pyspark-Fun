{
 "cells": [
  {
   "cell_type": "code",
   "execution_count": 89,
   "id": "2ae99998",
   "metadata": {},
   "outputs": [
    {
     "name": "stdout",
     "output_type": "stream",
     "text": [
      "Requirement already satisfied: pyspark in c:\\users\\vaibhav warade\\anaconda3\\lib\\site-packages (3.5.0)\n",
      "Requirement already satisfied: py4j==0.10.9.7 in c:\\users\\vaibhav warade\\anaconda3\\lib\\site-packages (from pyspark) (0.10.9.7)\n"
     ]
    }
   ],
   "source": [
    "#Pyspark DataFrames\n",
    "!pip install pyspark"
   ]
  },
  {
   "cell_type": "code",
   "execution_count": 1,
   "id": "b043b52f",
   "metadata": {},
   "outputs": [],
   "source": [
    "import pyspark"
   ]
  },
  {
   "cell_type": "code",
   "execution_count": 2,
   "id": "a0aa9a89",
   "metadata": {},
   "outputs": [],
   "source": [
    "from  pyspark.sql import SparkSession"
   ]
  },
  {
   "cell_type": "code",
   "execution_count": 3,
   "id": "840e0c07",
   "metadata": {},
   "outputs": [],
   "source": [
    "spark = SparkSession.builder.appName(\"Pysparktut\").getOrCreate()"
   ]
  },
  {
   "cell_type": "code",
   "execution_count": 10,
   "id": "fab1dccc",
   "metadata": {},
   "outputs": [
    {
     "data": {
      "text/html": [
       "\n",
       "            <div>\n",
       "                <p><b>SparkSession - in-memory</b></p>\n",
       "                \n",
       "        <div>\n",
       "            <p><b>SparkContext</b></p>\n",
       "\n",
       "            <p><a href=\"http://host.docker.internal:4040\">Spark UI</a></p>\n",
       "\n",
       "            <dl>\n",
       "              <dt>Version</dt>\n",
       "                <dd><code>v3.5.0</code></dd>\n",
       "              <dt>Master</dt>\n",
       "                <dd><code>local[*]</code></dd>\n",
       "              <dt>AppName</dt>\n",
       "                <dd><code>Pysparktut</code></dd>\n",
       "            </dl>\n",
       "        </div>\n",
       "        \n",
       "            </div>\n",
       "        "
      ],
      "text/plain": [
       "<pyspark.sql.session.SparkSession at 0x1746fa96410>"
      ]
     },
     "execution_count": 10,
     "metadata": {},
     "output_type": "execute_result"
    }
   ],
   "source": [
    "spark"
   ]
  },
  {
   "cell_type": "code",
   "execution_count": 13,
   "id": "adce56ea",
   "metadata": {},
   "outputs": [
    {
     "name": "stdout",
     "output_type": "stream",
     "text": [
      "+---------+---+----------+------+\n",
      "|      _c0|_c1|       _c2|   _c3|\n",
      "+---------+---+----------+------+\n",
      "|     Name|age|Experience|Salary|\n",
      "|    Krish| 31|        10| 30000|\n",
      "|Sudhanshu| 30|         8| 25000|\n",
      "|    Sunny| 29|         4| 20000|\n",
      "|     Paul| 24|         3| 20000|\n",
      "|   Harsha| 21|         1| 15000|\n",
      "|  Shubham| 23|         2| 18000|\n",
      "+---------+---+----------+------+\n",
      "\n"
     ]
    }
   ],
   "source": [
    "#df_test_dataset = spark.read.csv(\"test1.csv\").show()"
   ]
  },
  {
   "cell_type": "markdown",
   "id": "8cac38cd",
   "metadata": {},
   "source": [
    "# Reading file with hedaer as true\n",
    "df_test = spark.read.option(\"header\",\"true\").csv(\"test1.csv\")"
   ]
  },
  {
   "cell_type": "code",
   "execution_count": 22,
   "id": "5f73d2ee",
   "metadata": {},
   "outputs": [
    {
     "name": "stdout",
     "output_type": "stream",
     "text": [
      "root\n",
      " |-- Name: string (nullable = true)\n",
      " |-- age: string (nullable = true)\n",
      " |-- Experience: string (nullable = true)\n",
      " |-- Salary: string (nullable = true)\n",
      "\n"
     ]
    }
   ],
   "source": [
    "#show datatypes (schema) \n",
    "df_test.printSchema() "
   ]
  },
  {
   "cell_type": "code",
   "execution_count": 23,
   "id": "7180280d",
   "metadata": {},
   "outputs": [
    {
     "name": "stdout",
     "output_type": "stream",
     "text": [
      "+---------+---+----------+------+\n",
      "|     Name|age|Experience|Salary|\n",
      "+---------+---+----------+------+\n",
      "|    Krish| 31|        10| 30000|\n",
      "|Sudhanshu| 30|         8| 25000|\n",
      "|    Sunny| 29|         4| 20000|\n",
      "|     Paul| 24|         3| 20000|\n",
      "|   Harsha| 21|         1| 15000|\n",
      "|  Shubham| 23|         2| 18000|\n",
      "+---------+---+----------+------+\n",
      "\n"
     ]
    }
   ],
   "source": [
    "df_test.show() "
   ]
  },
  {
   "cell_type": "code",
   "execution_count": 18,
   "id": "fbaa8746",
   "metadata": {},
   "outputs": [
    {
     "data": {
      "text/plain": [
       "[Row(Name='Krish', age='31', Experience='10', Salary='30000')]"
      ]
     },
     "execution_count": 18,
     "metadata": {},
     "output_type": "execute_result"
    }
   ],
   "source": [
    "df_test.head(1) #SHOWS ROW FROM BRACKET INDEX"
   ]
  },
  {
   "cell_type": "code",
   "execution_count": 69,
   "id": "eddd6f2e",
   "metadata": {},
   "outputs": [],
   "source": [
    "#using inferschema [auto recognize datatype]\n",
    "df_infered_test=spark.read.csv('test1.csv',inferSchema=True,header=True)"
   ]
  },
  {
   "cell_type": "code",
   "execution_count": 41,
   "id": "761f434e",
   "metadata": {},
   "outputs": [
    {
     "name": "stdout",
     "output_type": "stream",
     "text": [
      "root\n",
      " |-- Name: string (nullable = true)\n",
      " |-- age: integer (nullable = true)\n",
      " |-- Experience: integer (nullable = true)\n",
      " |-- Salary: integer (nullable = true)\n",
      "\n"
     ]
    }
   ],
   "source": [
    "df_infered_test.printSchema()\n",
    "#check datatype of columns"
   ]
  },
  {
   "cell_type": "code",
   "execution_count": 40,
   "id": "9bdf79aa",
   "metadata": {},
   "outputs": [
    {
     "data": {
      "text/plain": [
       "pyspark.sql.dataframe.DataFrame"
      ]
     },
     "execution_count": 40,
     "metadata": {},
     "output_type": "execute_result"
    }
   ],
   "source": [
    "type(df_infered_test)\n",
    "#Dataframe is kind of datastructure"
   ]
  },
  {
   "cell_type": "code",
   "execution_count": 70,
   "id": "92a8357c",
   "metadata": {},
   "outputs": [],
   "source": [
    "df_py=df_infered_test"
   ]
  },
  {
   "cell_type": "markdown",
   "id": "d7514eb6",
   "metadata": {},
   "source": [
    "### Select particular columns\n",
    "#df_py.select('Name') -> returns o/p as DataFrame\n",
    "df_py.select('Name').show()"
   ]
  },
  {
   "cell_type": "code",
   "execution_count": 57,
   "id": "e2a926a2",
   "metadata": {},
   "outputs": [
    {
     "name": "stdout",
     "output_type": "stream",
     "text": [
      "+---------+----------+\n",
      "|     Name|Experience|\n",
      "+---------+----------+\n",
      "|    Krish|        10|\n",
      "|Sudhanshu|         8|\n",
      "|    Sunny|         4|\n",
      "|     Paul|         3|\n",
      "|   Harsha|         1|\n",
      "|  Shubham|         2|\n",
      "+---------+----------+\n",
      "\n"
     ]
    }
   ],
   "source": [
    "df_py.select(['Name','Experience']).show()\n",
    "#Selecting multiple columns"
   ]
  },
  {
   "cell_type": "code",
   "execution_count": 61,
   "id": "1dec7a44",
   "metadata": {},
   "outputs": [
    {
     "data": {
      "text/plain": [
       "DataFrame[summary: string, Name: string, age: string, Experience: string, Salary: string]"
      ]
     },
     "execution_count": 61,
     "metadata": {},
     "output_type": "execute_result"
    }
   ],
   "source": [
    "df_py.describe()"
   ]
  },
  {
   "cell_type": "markdown",
   "id": "0a6e2b2f",
   "metadata": {},
   "source": [
    "### Adding columns -> withColumn\n",
    "#NOTE : in order to get reflected you will have to assign it to another DF\n",
    "df_py.withColumn('Experience after 2 years',df_py['Experience']+2).show()\n"
   ]
  },
  {
   "cell_type": "code",
   "execution_count": 71,
   "id": "8f06bab8",
   "metadata": {},
   "outputs": [],
   "source": [
    "\n",
    "df_pyNew= df_py.withColumn('Experience after 2 years',df_py['Experience']+2)\n"
   ]
  },
  {
   "cell_type": "markdown",
   "id": "e0b0667f",
   "metadata": {},
   "source": [
    "### Dropping columns\n",
    "#NOTE this is also not inplace operation\n",
    "df_pyNew.drop('Experince after 2 years')"
   ]
  },
  {
   "cell_type": "code",
   "execution_count": 73,
   "id": "214a02e7",
   "metadata": {},
   "outputs": [],
   "source": [
    "df_removed=df_pyNew.drop('Experince after 2 years')"
   ]
  },
  {
   "cell_type": "code",
   "execution_count": 76,
   "id": "2c815ae8",
   "metadata": {},
   "outputs": [
    {
     "name": "stdout",
     "output_type": "stream",
     "text": [
      "+---------+---+----------+------+\n",
      "|FirstName|age|Experience|Salary|\n",
      "+---------+---+----------+------+\n",
      "|    Krish| 31|        10| 30000|\n",
      "|Sudhanshu| 30|         8| 25000|\n",
      "|    Sunny| 29|         4| 20000|\n",
      "|     Paul| 24|         3| 20000|\n",
      "|   Harsha| 21|         1| 15000|\n",
      "|  Shubham| 23|         2| 18000|\n",
      "+---------+---+----------+------+\n",
      "\n"
     ]
    }
   ],
   "source": [
    "#Rename columns\n",
    "#NOTE : Renamed - > check note for ed word here\n",
    "df_py.withColumnRenamed('Name','FirstName').show()"
   ]
  },
  {
   "cell_type": "markdown",
   "id": "f5a785c8",
   "metadata": {},
   "source": [
    "## NULL value handling\n"
   ]
  },
  {
   "cell_type": "code",
   "execution_count": 82,
   "id": "cc1ba4ca",
   "metadata": {},
   "outputs": [],
   "source": [
    "from pyspark.sql import SparkSession\n",
    "spark=SparkSession.builder.appName('Filtering session').getOrCreate()"
   ]
  },
  {
   "cell_type": "code",
   "execution_count": 87,
   "id": "2daaa47c",
   "metadata": {},
   "outputs": [],
   "source": [
    "df_test2=spark.read.csv('test2.csv',header=True,inferSchema=True)"
   ]
  },
  {
   "cell_type": "code",
   "execution_count": 96,
   "id": "0c9ccbe4",
   "metadata": {},
   "outputs": [
    {
     "name": "stdout",
     "output_type": "stream",
     "text": [
      "+---------+----+----------+------+\n",
      "|     Name| age|Experience|Salary|\n",
      "+---------+----+----------+------+\n",
      "|    Krish|  31|        10| 30000|\n",
      "|Sudhanshu|  30|         8| 25000|\n",
      "|    Sunny|  29|         4| 20000|\n",
      "|     Paul|  24|         3| 20000|\n",
      "|   Harsha|  21|         1| 15000|\n",
      "|  Shubham|  23|         2| 18000|\n",
      "|   Mahesh|NULL|      NULL| 40000|\n",
      "|     NULL|  34|        10| 38000|\n",
      "|     NULL|  36|      NULL|  NULL|\n",
      "+---------+----+----------+------+\n",
      "\n"
     ]
    }
   ],
   "source": [
    "df_test2.show()"
   ]
  },
  {
   "cell_type": "markdown",
   "id": "b2f668ed",
   "metadata": {},
   "source": [
    "### Drop specific rows with NULL Values\n",
    "#drop(how,thresh,subset)\n",
    "df_test2.na.drop().show() \n",
    "\n",
    "#'any' by default\n",
    "#Wherever null value is present , it will drop all those rows"
   ]
  },
  {
   "cell_type": "code",
   "execution_count": 99,
   "id": "e7e6d3d4",
   "metadata": {},
   "outputs": [
    {
     "name": "stdout",
     "output_type": "stream",
     "text": [
      "+---------+----+----------+------+\n",
      "|     Name| age|Experience|Salary|\n",
      "+---------+----+----------+------+\n",
      "|    Krish|  31|        10| 30000|\n",
      "|Sudhanshu|  30|         8| 25000|\n",
      "|    Sunny|  29|         4| 20000|\n",
      "|     Paul|  24|         3| 20000|\n",
      "|   Harsha|  21|         1| 15000|\n",
      "|  Shubham|  23|         2| 18000|\n",
      "|   Mahesh|NULL|      NULL| 40000|\n",
      "|     NULL|  34|        10| 38000|\n",
      "|     NULL|  36|      NULL|  NULL|\n",
      "+---------+----+----------+------+\n",
      "\n"
     ]
    }
   ],
   "source": [
    "#any= how\n",
    "df_test2.na.drop('all').show()\n",
    "#'all' drops only when all values in row is NULL"
   ]
  },
  {
   "cell_type": "code",
   "execution_count": 102,
   "id": "dd75289e",
   "metadata": {},
   "outputs": [
    {
     "name": "stdout",
     "output_type": "stream",
     "text": [
      "+---------+----+----------+------+\n",
      "|     Name| age|Experience|Salary|\n",
      "+---------+----+----------+------+\n",
      "|    Krish|  31|        10| 30000|\n",
      "|Sudhanshu|  30|         8| 25000|\n",
      "|    Sunny|  29|         4| 20000|\n",
      "|     Paul|  24|         3| 20000|\n",
      "|   Harsha|  21|         1| 15000|\n",
      "|  Shubham|  23|         2| 18000|\n",
      "|   Mahesh|NULL|      NULL| 40000|\n",
      "|     NULL|  34|        10| 38000|\n",
      "+---------+----+----------+------+\n",
      "\n"
     ]
    }
   ],
   "source": [
    "## threshold in na.drop\n",
    "df_test2.na.drop(how='any',thresh=2).show()\n",
    "\n",
    "#threshold = 2 checks atleast 2 NON NULL values, \n",
    "             #if there it will keep it there else drop. "
   ]
  },
  {
   "cell_type": "code",
   "execution_count": 103,
   "id": "ab346554",
   "metadata": {},
   "outputs": [
    {
     "name": "stdout",
     "output_type": "stream",
     "text": [
      "+---------+---+----------+------+\n",
      "|     Name|age|Experience|Salary|\n",
      "+---------+---+----------+------+\n",
      "|    Krish| 31|        10| 30000|\n",
      "|Sudhanshu| 30|         8| 25000|\n",
      "|    Sunny| 29|         4| 20000|\n",
      "|     Paul| 24|         3| 20000|\n",
      "|   Harsha| 21|         1| 15000|\n",
      "|  Shubham| 23|         2| 18000|\n",
      "|     NULL| 34|        10| 38000|\n",
      "+---------+---+----------+------+\n",
      "\n"
     ]
    }
   ],
   "source": [
    "## subset in na.drop\n",
    "df_test2.na.drop(how='any',subset=['Experience']).show()\n",
    "\n",
    "#Subset allows to select specific column to choose na.drop application."
   ]
  },
  {
   "cell_type": "code",
   "execution_count": 109,
   "id": "2b44cb29",
   "metadata": {},
   "outputs": [
    {
     "name": "stdout",
     "output_type": "stream",
     "text": [
      "+---------+----+----------+------+\n",
      "|     Name| age|Experience|Salary|\n",
      "+---------+----+----------+------+\n",
      "|    Krish|  31|        10| 30000|\n",
      "|Sudhanshu|  30|         8| 25000|\n",
      "|    Sunny|  29|         4| 20000|\n",
      "|     Paul|  24|         3| 20000|\n",
      "|   Harsha|  21|         1| 15000|\n",
      "|  Shubham|  23|         2| 18000|\n",
      "|   Mahesh|NULL|         0| 40000|\n",
      "|     NULL|  34|        10| 38000|\n",
      "|     NULL|  36|         0|  NULL|\n",
      "+---------+----+----------+------+\n",
      "\n",
      "+---------+---+----------+------+\n",
      "|     Name|age|Experience|Salary|\n",
      "+---------+---+----------+------+\n",
      "|    Krish| 31|        10| 30000|\n",
      "|Sudhanshu| 30|         8| 25000|\n",
      "|    Sunny| 29|         4| 20000|\n",
      "|     Paul| 24|         3| 20000|\n",
      "|   Harsha| 21|         1| 15000|\n",
      "|  Shubham| 23|         2| 18000|\n",
      "|   Mahesh|  0|         0| 40000|\n",
      "|     NULL| 34|        10| 38000|\n",
      "|     NULL| 36|         0|  NULL|\n",
      "+---------+---+----------+------+\n",
      "\n"
     ]
    }
   ],
   "source": [
    "## Filling the missing values \n",
    "#fill(value,subset)\n",
    "df_test2.na.fill(0,['Experience']).show()\n",
    "df_test2.na.fill(0,['Experience','age']).show()\n",
    "\n",
    "\n",
    "# NOTE: this fill will check datatype and allow similar datatype fill only."
   ]
  },
  {
   "cell_type": "markdown",
   "id": "6a94ce2d",
   "metadata": {},
   "source": [
    "## FILTERING "
   ]
  },
  {
   "cell_type": "code",
   "execution_count": 4,
   "id": "43f4ab25",
   "metadata": {},
   "outputs": [
    {
     "data": {
      "text/html": [
       "\n",
       "            <div>\n",
       "                <p><b>SparkSession - in-memory</b></p>\n",
       "                \n",
       "        <div>\n",
       "            <p><b>SparkContext</b></p>\n",
       "\n",
       "            <p><a href=\"http://host.docker.internal:4040\">Spark UI</a></p>\n",
       "\n",
       "            <dl>\n",
       "              <dt>Version</dt>\n",
       "                <dd><code>v3.5.0</code></dd>\n",
       "              <dt>Master</dt>\n",
       "                <dd><code>local[*]</code></dd>\n",
       "              <dt>AppName</dt>\n",
       "                <dd><code>Pysparktut</code></dd>\n",
       "            </dl>\n",
       "        </div>\n",
       "        \n",
       "            </div>\n",
       "        "
      ],
      "text/plain": [
       "<pyspark.sql.session.SparkSession at 0x2ee2cdf9180>"
      ]
     },
     "execution_count": 4,
     "metadata": {},
     "output_type": "execute_result"
    }
   ],
   "source": [
    "spark"
   ]
  },
  {
   "cell_type": "code",
   "execution_count": 8,
   "id": "81fa6f1b",
   "metadata": {},
   "outputs": [],
   "source": [
    "df_py=spark.read.csv('test1.csv',inferSchema=True,header=True)"
   ]
  },
  {
   "cell_type": "code",
   "execution_count": 9,
   "id": "75dce72b",
   "metadata": {},
   "outputs": [
    {
     "name": "stdout",
     "output_type": "stream",
     "text": [
      "+---------+---+----------+------+\n",
      "|     Name|age|Experience|Salary|\n",
      "+---------+---+----------+------+\n",
      "|    Krish| 31|        10| 30000|\n",
      "|Sudhanshu| 30|         8| 25000|\n",
      "|    Sunny| 29|         4| 20000|\n",
      "|     Paul| 24|         3| 20000|\n",
      "|   Harsha| 21|         1| 15000|\n",
      "|  Shubham| 23|         2| 18000|\n",
      "+---------+---+----------+------+\n",
      "\n"
     ]
    }
   ],
   "source": [
    "df_py.show()"
   ]
  },
  {
   "cell_type": "code",
   "execution_count": 14,
   "id": "ee8ef253",
   "metadata": {},
   "outputs": [
    {
     "name": "stdout",
     "output_type": "stream",
     "text": [
      "+---------+------+\n",
      "|     Name|Salary|\n",
      "+---------+------+\n",
      "|    Krish| 30000|\n",
      "|Sudhanshu| 25000|\n",
      "|    Sunny| 20000|\n",
      "+---------+------+\n",
      "\n"
     ]
    }
   ],
   "source": [
    "df_py.filter('Experience>3').select(['Name','Salary']).show()"
   ]
  },
  {
   "cell_type": "code",
   "execution_count": 24,
   "id": "fbd070cd",
   "metadata": {},
   "outputs": [
    {
     "name": "stdout",
     "output_type": "stream",
     "text": [
      "+---------+\n",
      "|     Name|\n",
      "+---------+\n",
      "|    Krish|\n",
      "|Sudhanshu|\n",
      "+---------+\n",
      "\n",
      "+---------+\n",
      "|     Name|\n",
      "+---------+\n",
      "|    Krish|\n",
      "|Sudhanshu|\n",
      "+---------+\n",
      "\n"
     ]
    }
   ],
   "source": [
    "df_py.filter('Age>25' and 'Experience>4').select(['Name']).show()\n",
    "#\n",
    "#Same for OR filtering\n",
    "\n",
    "#Another way of doing same\n",
    "df_py.filter((df_py['Age']>25) & (df_py['Experience']>4)).select('Name').show()\n",
    "#Without select name you'll get all columns "
   ]
  },
  {
   "cell_type": "code",
   "execution_count": 41,
   "id": "de80a88a",
   "metadata": {},
   "outputs": [
    {
     "name": "stdout",
     "output_type": "stream",
     "text": [
      "+-------+---+----------+------+\n",
      "|   Name|age|Experience|Salary|\n",
      "+-------+---+----------+------+\n",
      "|  Sunny| 29|         4| 20000|\n",
      "|   Paul| 24|         3| 20000|\n",
      "| Harsha| 21|         1| 15000|\n",
      "|Shubham| 23|         2| 18000|\n",
      "+-------+---+----------+------+\n",
      "\n"
     ]
    }
   ],
   "source": [
    "#NOT(negation) filtering\n",
    "\n",
    "df_py.filter(~(df_py['Experience']>4)).show()\n",
    "spark.stop()"
   ]
  },
  {
   "cell_type": "markdown",
   "id": "3f835135",
   "metadata": {},
   "source": [
    "## Group BY and Aggregate Functions"
   ]
  },
  {
   "cell_type": "code",
   "execution_count": 42,
   "id": "8ff72960",
   "metadata": {},
   "outputs": [],
   "source": [
    "#Creating new session just for repractice\n",
    "from pyspark.sql import SparkSession"
   ]
  },
  {
   "cell_type": "code",
   "execution_count": 43,
   "id": "b6255376",
   "metadata": {},
   "outputs": [],
   "source": [
    "spark=SparkSession.builder.appName('GroupNAgg').getOrCreate()"
   ]
  },
  {
   "cell_type": "code",
   "execution_count": 44,
   "id": "e21365ae",
   "metadata": {},
   "outputs": [],
   "source": [
    "df_agg=spark.read.csv('test3.csv',header=True,inferSchema=True)"
   ]
  },
  {
   "cell_type": "code",
   "execution_count": 45,
   "id": "3fe3fe88",
   "metadata": {},
   "outputs": [
    {
     "name": "stdout",
     "output_type": "stream",
     "text": [
      "+---------+------------+------+\n",
      "|     Name| Departments|salary|\n",
      "+---------+------------+------+\n",
      "|    Krish|Data Science| 10000|\n",
      "|    Krish|         IOT|  5000|\n",
      "|   Mahesh|    Big Data|  4000|\n",
      "|    Krish|    Big Data|  4000|\n",
      "|   Mahesh|Data Science|  3000|\n",
      "|Sudhanshu|Data Science| 20000|\n",
      "|Sudhanshu|         IOT| 10000|\n",
      "|Sudhanshu|    Big Data|  5000|\n",
      "|    Sunny|Data Science| 10000|\n",
      "|    Sunny|    Big Data|  2000|\n",
      "+---------+------------+------+\n",
      "\n"
     ]
    }
   ],
   "source": [
    "df_agg.show()"
   ]
  },
  {
   "cell_type": "code",
   "execution_count": 50,
   "id": "b9e9002d",
   "metadata": {},
   "outputs": [
    {
     "name": "stdout",
     "output_type": "stream",
     "text": [
      "+---------+-----------+\n",
      "|     Name|sum(salary)|\n",
      "+---------+-----------+\n",
      "|Sudhanshu|      35000|\n",
      "|    Sunny|      12000|\n",
      "|    Krish|      19000|\n",
      "|   Mahesh|       7000|\n",
      "+---------+-----------+\n",
      "\n"
     ]
    }
   ],
   "source": [
    "## GroupBY Name\n",
    "# We cannot apply sum on string, so only salary will get summed\n",
    "\n",
    "#Grouped to find maximum salary\n",
    "df_agg.groupBy('Name').sum().show()"
   ]
  },
  {
   "cell_type": "code",
   "execution_count": 53,
   "id": "0c67eb5d",
   "metadata": {},
   "outputs": [
    {
     "name": "stdout",
     "output_type": "stream",
     "text": [
      "+------------+-----------+\n",
      "| Departments|sum(salary)|\n",
      "+------------+-----------+\n",
      "|         IOT|      15000|\n",
      "|    Big Data|      15000|\n",
      "|Data Science|      43000|\n",
      "+------------+-----------+\n",
      "\n",
      "+------------+-----------+\n",
      "| Departments|avg(salary)|\n",
      "+------------+-----------+\n",
      "|         IOT|     7500.0|\n",
      "|    Big Data|     3750.0|\n",
      "|Data Science|    10750.0|\n",
      "+------------+-----------+\n",
      "\n"
     ]
    }
   ],
   "source": [
    "## Group BY department which gives maximum salary\n",
    "\n",
    "df_agg.groupBy('Departments').sum().show()\n",
    "\n",
    "df_agg.groupBy('Departments').mean().show()"
   ]
  },
  {
   "cell_type": "code",
   "execution_count": 54,
   "id": "d5171999",
   "metadata": {},
   "outputs": [
    {
     "name": "stdout",
     "output_type": "stream",
     "text": [
      "+------------+-----+\n",
      "| Departments|count|\n",
      "+------------+-----+\n",
      "|         IOT|    2|\n",
      "|    Big Data|    4|\n",
      "|Data Science|    4|\n",
      "+------------+-----+\n",
      "\n"
     ]
    }
   ],
   "source": [
    "#Number of employees per department\n",
    "df_agg.groupBy('Departments').count().show()"
   ]
  },
  {
   "cell_type": "markdown",
   "id": "6da5caff",
   "metadata": {},
   "source": [
    "### Direct aggregate function agg({key,value})\n",
    "\n",
    "df_agg.agg({'salary':'sum'}).show()"
   ]
  },
  {
   "cell_type": "code",
   "execution_count": 64,
   "id": "0a20319e",
   "metadata": {},
   "outputs": [
    {
     "name": "stdout",
     "output_type": "stream",
     "text": [
      "+---------+-----------+\n",
      "|     Name|max(salary)|\n",
      "+---------+-----------+\n",
      "|Sudhanshu|      20000|\n",
      "|    Sunny|      10000|\n",
      "|    Krish|      10000|\n",
      "|   Mahesh|       4000|\n",
      "+---------+-----------+\n",
      "\n"
     ]
    }
   ],
   "source": [
    "#max\n",
    "\n",
    "df_agg.groupBy('Name').max().show()"
   ]
  },
  {
   "cell_type": "code",
   "execution_count": 65,
   "id": "22177d9c",
   "metadata": {},
   "outputs": [
    {
     "name": "stdout",
     "output_type": "stream",
     "text": [
      "+---------+------------------+\n",
      "|     Name|       avg(salary)|\n",
      "+---------+------------------+\n",
      "|Sudhanshu|11666.666666666666|\n",
      "|    Sunny|            6000.0|\n",
      "|    Krish| 6333.333333333333|\n",
      "|   Mahesh|            3500.0|\n",
      "+---------+------------------+\n",
      "\n"
     ]
    }
   ],
   "source": [
    "#Avg\n",
    "\n",
    "df_agg.groupBy('Name').mean().show()"
   ]
  }
 ],
 "metadata": {
  "kernelspec": {
   "display_name": "Python 3 (ipykernel)",
   "language": "python",
   "name": "python3"
  },
  "language_info": {
   "codemirror_mode": {
    "name": "ipython",
    "version": 3
   },
   "file_extension": ".py",
   "mimetype": "text/x-python",
   "name": "python",
   "nbconvert_exporter": "python",
   "pygments_lexer": "ipython3",
   "version": "3.10.9"
  }
 },
 "nbformat": 4,
 "nbformat_minor": 5
}
